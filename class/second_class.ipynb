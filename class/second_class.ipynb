{
 "cells": [
  {
   "cell_type": "code",
   "execution_count": null,
   "id": "0a39dab4-cc74-49f6-9859-e01715709615",
   "metadata": {},
   "outputs": [],
   "source": [
    "# Recap\n",
    "- jupyer lab : 데이터 분석을 위한 IDE\n",
    "    - 마크다운 셀, 일반 셀로 구성\n"
   ]
  },
  {
   "cell_type": "code",
   "execution_count": 1,
   "id": "f5f7aaca-735b-4464-99e0-d81928a1b5c6",
   "metadata": {},
   "outputs": [
    {
     "data": {
      "text/plain": [
       "(2, 0, 1, 1.0)"
      ]
     },
     "execution_count": 1,
     "metadata": {},
     "output_type": "execute_result"
    }
   ],
   "source": [
    "1 + 1, 1 - 1, 1 * 1 , 1/1"
   ]
  },
  {
   "cell_type": "code",
   "execution_count": 9,
   "id": "433fb67d-9cf5-4db5-914f-3876c750e538",
   "metadata": {},
   "outputs": [
    {
     "data": {
      "text/plain": [
       "2"
      ]
     },
     "execution_count": 9,
     "metadata": {},
     "output_type": "execute_result"
    }
   ],
   "source": [
    "11%3"
   ]
  },
  {
   "cell_type": "code",
   "execution_count": 4,
   "id": "c5ed5ddf-dc50-48a5-88d7-4bb1c48ed460",
   "metadata": {},
   "outputs": [
    {
     "data": {
      "text/plain": [
       "1"
      ]
     },
     "execution_count": 4,
     "metadata": {},
     "output_type": "execute_result"
    }
   ],
   "source": [
    "a=1\n",
    "a"
   ]
  },
  {
   "cell_type": "code",
   "execution_count": 5,
   "id": "87511286-3c7e-4fe0-89d1-33bfff20feac",
   "metadata": {},
   "outputs": [
    {
     "data": {
      "text/plain": [
       "'hello my name is wonseok'"
      ]
     },
     "execution_count": 5,
     "metadata": {},
     "output_type": "execute_result"
    }
   ],
   "source": [
    "\"hello my name is {}\" .format(\"wonseok\")"
   ]
  },
  {
   "cell_type": "code",
   "execution_count": 7,
   "id": "02750dfb-a38e-414e-bbbb-8a7ee38e9dc7",
   "metadata": {},
   "outputs": [
    {
     "data": {
      "text/plain": [
       "' my name is wonseok'"
      ]
     },
     "execution_count": 7,
     "metadata": {},
     "output_type": "execute_result"
    }
   ],
   "source": [
    "name = \"wonseok\"\n",
    "f\" my name is {name}\""
   ]
  },
  {
   "cell_type": "raw",
   "id": "90e4ef96-f204-4a39-bacb-af9dbb9b6603",
   "metadata": {},
   "source": [
    "3/8 숙제 \n",
    "\n",
    "1.유저의 닉네임과 비밀번호를 딕셔너리에 "
   ]
  }
 ],
 "metadata": {
  "kernelspec": {
   "display_name": "Python 3 (ipykernel)",
   "language": "python",
   "name": "python3"
  },
  "language_info": {
   "codemirror_mode": {
    "name": "ipython",
    "version": 3
   },
   "file_extension": ".py",
   "mimetype": "text/x-python",
   "name": "python",
   "nbconvert_exporter": "python",
   "pygments_lexer": "ipython3",
   "version": "3.9.13"
  }
 },
 "nbformat": 4,
 "nbformat_minor": 5
}
