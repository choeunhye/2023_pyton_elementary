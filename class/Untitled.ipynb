{
 "cells": [
  {
   "cell_type": "code",
   "execution_count": null,
   "id": "240e06bd-5322-473f-b9f4-4a5d778b7661",
   "metadata": {},
   "outputs": [],
   "source": [
    "## class & object\n",
    "- 클래스\n",
    "    - 분류하다 (클레시피케이션 / classification / ex 클래스가 높아 A,B,c /  어떤 대상이다. \n",
    "            \n",
    "            이데아 / idea  그리스어 / 이 세상은 그림자다 / \n",
    "            컴퓨터 공간에서 '의자'를 만든다 / 의자의 기능 / \n",
    "            클래스의 본질은 추상환 (abstraction) \n",
    "            명사로 보통 명명됨 <-> 함수는 동작 \n",
    "            클래스는 성질(attribute), rlsmd(methood) , \n",
    "            ( 객체지향형 /\n",
    "            "
   ]
  },
  {
   "cell_type": "code",
   "execution_count": 4,
   "id": "58b9f407-8312-43a7-a03f-9b9be30bee47",
   "metadata": {},
   "outputs": [],
   "source": [
    " class Dog : \n",
    "        \n",
    "    name = 'kiki'\n",
    "    age = 5\n",
    "    master = 'wonseok'\n",
    "    \n",
    "    def bark(self) :\n",
    "        print(\"wal wal\")\n",
    "        \n",
    "    def hungry(self) : \n",
    "        print( \" i am hungry\")\n",
    "            "
   ]
  },
  {
   "cell_type": "code",
   "execution_count": 5,
   "id": "2c47b7e0-2bfc-44ed-9ab6-a98a232c3346",
   "metadata": {},
   "outputs": [],
   "source": [
    "kiki = Dog()"
   ]
  },
  {
   "cell_type": "code",
   "execution_count": 6,
   "id": "6d34aacd-9386-42df-bbbf-8e972fc305df",
   "metadata": {},
   "outputs": [
    {
     "data": {
      "text/plain": [
       "'kiki'"
      ]
     },
     "execution_count": 6,
     "metadata": {},
     "output_type": "execute_result"
    }
   ],
   "source": [
    "kiki.name"
   ]
  },
  {
   "cell_type": "code",
   "execution_count": null,
   "id": "88d2bcba-8108-4958-8856-eefb2d368ebb",
   "metadata": {},
   "outputs": [],
   "source": [
    "special methood (특별기능)\n",
    " - '__init__' : 생성자 메서드 \n",
    "    \n",
    "    name = 'kiki'\n",
    "    age = 5\n",
    "    master = 'wonseok'\n",
    "    \n",
    "    def bark(self) :\n",
    "        print(\"wal wal\")\n",
    "        \n",
    "    def hungry(self) : \n",
    "        print( \" i am hungry\")\n",
    "            "
   ]
  },
  {
   "cell_type": "code",
   "execution_count": 7,
   "id": "98e3a6d4-0c99-4512-adfd-e688ff5e9e74",
   "metadata": {},
   "outputs": [],
   "source": [
    " # user class / 회원등 사용자 집합 - 클래스 / 성질 - 명사 / \n",
    "    \n",
    " class User : \n",
    "    \n",
    "    def __init__(self,name,gender,address,email) : \n",
    "        self.name = name\n",
    "        self.gender = gender \n",
    "        self.address = address\n",
    "        self.email = email\n",
    "        "
   ]
  },
  {
   "cell_type": "code",
   "execution_count": 10,
   "id": "0c8775c2-502a-4c4f-9be6-d5ddd5374703",
   "metadata": {},
   "outputs": [],
   "source": [
    "wonseok = User('wonseok','male','seocho','memy85@naver.com')\n",
    "eunhye = User('eunhye','female','kwangmyung','fecos@naver.com')"
   ]
  },
  {
   "cell_type": "code",
   "execution_count": 12,
   "id": "6c795b90-7ace-4336-8f48-e06733250202",
   "metadata": {},
   "outputs": [
    {
     "data": {
      "text/plain": [
       "'wonseok'"
      ]
     },
     "execution_count": 12,
     "metadata": {},
     "output_type": "execute_result"
    }
   ],
   "source": [
    "wonseok.name"
   ]
  },
  {
   "cell_type": "code",
   "execution_count": 16,
   "id": "5ec9620e-8184-47f3-9281-a385c9dc02bb",
   "metadata": {},
   "outputs": [
    {
     "ename": "NameError",
     "evalue": "name 'user' is not defined",
     "output_type": "error",
     "traceback": [
      "\u001b[1;31m---------------------------------------------------------------------------\u001b[0m",
      "\u001b[1;31mNameError\u001b[0m                                 Traceback (most recent call last)",
      "\u001b[1;32m~\\AppData\\Local\\Temp\\ipykernel_18568\\3650137466.py\u001b[0m in \u001b[0;36m<module>\u001b[1;34m\u001b[0m\n\u001b[0;32m      1\u001b[0m \u001b[1;31m# 상속\u001b[0m\u001b[1;33m\u001b[0m\u001b[1;33m\u001b[0m\u001b[0m\n\u001b[0;32m      2\u001b[0m \u001b[1;33m\u001b[0m\u001b[0m\n\u001b[1;32m----> 3\u001b[1;33m \u001b[1;32mclass\u001b[0m \u001b[0mUser2\u001b[0m\u001b[1;33m(\u001b[0m\u001b[0muser\u001b[0m\u001b[1;33m)\u001b[0m \u001b[1;33m:\u001b[0m\u001b[1;33m\u001b[0m\u001b[1;33m\u001b[0m\u001b[0m\n\u001b[0m\u001b[0;32m      4\u001b[0m \u001b[1;33m\u001b[0m\u001b[0m\n\u001b[0;32m      5\u001b[0m     \u001b[1;32mdef\u001b[0m \u001b[0m__init__\u001b[0m\u001b[1;33m(\u001b[0m\u001b[0mself\u001b[0m\u001b[1;33m,\u001b[0m\u001b[0mname\u001b[0m\u001b[1;33m,\u001b[0m\u001b[0mgender\u001b[0m\u001b[1;33m,\u001b[0m\u001b[0maddress\u001b[0m\u001b[1;33m,\u001b[0m\u001b[0memail\u001b[0m\u001b[1;33m)\u001b[0m \u001b[1;33m:\u001b[0m\u001b[1;33m\u001b[0m\u001b[1;33m\u001b[0m\u001b[0m\n",
      "\u001b[1;31mNameError\u001b[0m: name 'user' is not defined"
     ]
    }
   ],
   "source": [
    "# 상속 \n",
    "\n",
    "class User2(user) : \n",
    "    \n",
    "    def __init__(self,name,gender,address,email) : \n",
    "        super().__init__(name,gender,address,email)\n",
    "        \n",
    "    def send_message(self,message):\n",
    "        print(\"sended message : {}\".input(message))\n",
    "        \n",
    "    def receive_message(self) : \n",
    "        print(\"received message!\")"
   ]
  },
  {
   "cell_type": "code",
   "execution_count": 17,
   "id": "3f5b04cb-833e-45d0-8c27-ece5bebe9784",
   "metadata": {},
   "outputs": [
    {
     "ename": "AttributeError",
     "evalue": "'User' object has no attribute 'send_message'",
     "output_type": "error",
     "traceback": [
      "\u001b[1;31m---------------------------------------------------------------------------\u001b[0m",
      "\u001b[1;31mAttributeError\u001b[0m                            Traceback (most recent call last)",
      "\u001b[1;32m~\\AppData\\Local\\Temp\\ipykernel_18568\\178102860.py\u001b[0m in \u001b[0;36m<module>\u001b[1;34m\u001b[0m\n\u001b[1;32m----> 1\u001b[1;33m \u001b[0mwonseok\u001b[0m\u001b[1;33m.\u001b[0m\u001b[0msend_message\u001b[0m\u001b[1;33m(\u001b[0m\u001b[1;33m)\u001b[0m\u001b[1;33m\u001b[0m\u001b[1;33m\u001b[0m\u001b[0m\n\u001b[0m",
      "\u001b[1;31mAttributeError\u001b[0m: 'User' object has no attribute 'send_message'"
     ]
    }
   ],
   "source": [
    "wonseok.send_message()"
   ]
  },
  {
   "cell_type": "code",
   "execution_count": null,
   "id": "023a1e68-166b-4c52-a458-53513e29518c",
   "metadata": {},
   "outputs": [],
   "source": [
    "## 숙제 \n",
    "\n",
    "- 회원가입을 하는 프로그램을 만든다. \n",
    "    - 유저 정보를 저장하고\n",
    "    - 회원 전체정보를 반환하는 객체를 만들어 주세요 \n",
    "    \n",
    "    "
   ]
  },
  {
   "cell_type": "code",
   "execution_count": null,
   "id": "2cdbbf03-244c-43cb-abfc-70c14cbb44cb",
   "metadata": {},
   "outputs": [],
   "source": []
  },
  {
   "cell_type": "code",
   "execution_count": null,
   "id": "151fc514-1c27-42ce-93bc-34a402901a1b",
   "metadata": {},
   "outputs": [],
   "source": []
  },
  {
   "cell_type": "code",
   "execution_count": null,
   "id": "033ee6f3-fb17-4189-ad55-466c45a0bd14",
   "metadata": {},
   "outputs": [],
   "source": []
  },
  {
   "cell_type": "code",
   "execution_count": null,
   "id": "53d786f1-28c4-49f1-90ef-6db0accc6736",
   "metadata": {},
   "outputs": [],
   "source": []
  },
  {
   "cell_type": "code",
   "execution_count": null,
   "id": "2d445d2f-d9e6-4b37-bcc0-5562a5610ef5",
   "metadata": {},
   "outputs": [],
   "source": []
  }
 ],
 "metadata": {
  "kernelspec": {
   "display_name": "Python 3 (ipykernel)",
   "language": "python",
   "name": "python3"
  },
  "language_info": {
   "codemirror_mode": {
    "name": "ipython",
    "version": 3
   },
   "file_extension": ".py",
   "mimetype": "text/x-python",
   "name": "python",
   "nbconvert_exporter": "python",
   "pygments_lexer": "ipython3",
   "version": "3.9.13"
  }
 },
 "nbformat": 4,
 "nbformat_minor": 5
}
