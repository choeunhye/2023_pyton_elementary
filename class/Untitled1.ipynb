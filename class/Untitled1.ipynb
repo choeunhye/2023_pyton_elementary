{
 "cells": [
  {
   "cell_type": "code",
   "execution_count": 13,
   "id": "a49b1c4d-20ef-4706-b292-dca36ea30b34",
   "metadata": {},
   "outputs": [],
   "source": [
    "def save_user_information(nicname : list , passwd : list) : \n",
    "    \n",
    "    userInfo = {}\n",
    "    for persnal_name, persnal_passwd in zip(nicname,passwd) :\n",
    "        userInfo[persnal_name] = persnal_passwd\n",
    "        \n",
    "    return userInfo\n",
    "\n",
    "userInfo = save_user_information(['wonseok','eunhye'] , ['wonseok123','eunhye123'])\n"
   ]
  },
  {
   "cell_type": "code",
   "execution_count": 14,
   "id": "e6386a3d-d2fd-401a-9b2c-f5d8581f387c",
   "metadata": {},
   "outputs": [
    {
     "name": "stdout",
     "output_type": "stream",
     "text": [
      "0 wonseok\n",
      "1 eunhye\n"
     ]
    }
   ],
   "source": [
    "names = ['wonseok','eunhye']\n",
    "location = ['seocho','kwangmyung']\n",
    "\n",
    "for idx, name in enumerate(names) : \n",
    "    print(idx,name)"
   ]
  },
  {
   "cell_type": "code",
   "execution_count": 15,
   "id": "4ec1b38d-6f88-4b3b-97ba-d991f0d4a2d8",
   "metadata": {},
   "outputs": [
    {
     "name": "stdout",
     "output_type": "stream",
     "text": [
      "0 seocho\n",
      "1 kwangmyung\n"
     ]
    }
   ],
   "source": [
    "for idx, name in enumerate(location) :\n",
    "    print(idx,name)"
   ]
  },
  {
   "cell_type": "code",
   "execution_count": 16,
   "id": "bfa560e8-9bd0-4ea4-88e5-3c99b6381384",
   "metadata": {},
   "outputs": [
    {
     "name": "stdout",
     "output_type": "stream",
     "text": [
      "wonseok seocho\n",
      "eunhye kwangmyung\n"
     ]
    }
   ],
   "source": [
    "for name,loc in zip(names,location) : \n",
    "    print(name,loc)"
   ]
  },
  {
   "cell_type": "code",
   "execution_count": null,
   "id": "9dd9be19-fc48-4f86-87ed-bd11c84b464c",
   "metadata": {},
   "outputs": [],
   "source": [
    "클래스 / 성질 - 성격분류 / 기능 - 동작"
   ]
  },
  {
   "cell_type": "code",
   "execution_count": 28,
   "id": "3cdb99bf-0f30-4e38-a6d3-b8cdcbf37d42",
   "metadata": {},
   "outputs": [],
   "source": [
    "class Dog : \n",
    "    \n",
    "    name = 'kiki'\n",
    "    age = 5\n",
    "    master = 'wonseok'\n",
    "    \n",
    "    def bark(self) :\n",
    "        print('wal wal')\n",
    "        \n",
    "    def hungry(self) : \n",
    "        print('I am hungry')\n",
    "        "
   ]
  },
  {
   "cell_type": "code",
   "execution_count": 29,
   "id": "4e2d2daa-e360-4a18-ad29-f84254169380",
   "metadata": {},
   "outputs": [],
   "source": [
    "kiki = Dog()"
   ]
  },
  {
   "cell_type": "code",
   "execution_count": 30,
   "id": "2ced5e35-867f-4e33-916f-c16e8097f2f5",
   "metadata": {},
   "outputs": [
    {
     "data": {
      "text/plain": [
       "'kiki'"
      ]
     },
     "execution_count": 30,
     "metadata": {},
     "output_type": "execute_result"
    }
   ],
   "source": [
    "kiki.name"
   ]
  },
  {
   "cell_type": "code",
   "execution_count": 32,
   "id": "cd4cd93f-a523-4bfe-97f4-aba63ad156ee",
   "metadata": {},
   "outputs": [
    {
     "name": "stdout",
     "output_type": "stream",
     "text": [
      "wal wal\n"
     ]
    }
   ],
   "source": [
    "kiki.bark()"
   ]
  },
  {
   "cell_type": "code",
   "execution_count": 33,
   "id": "d3b91580-7f82-45eb-aee4-1ee5d74e4050",
   "metadata": {},
   "outputs": [
    {
     "data": {
      "text/plain": [
       "5"
      ]
     },
     "execution_count": 33,
     "metadata": {},
     "output_type": "execute_result"
    }
   ],
   "source": [
    "kiki.age"
   ]
  },
  {
   "cell_type": "code",
   "execution_count": null,
   "id": "939fbcef-2075-4c88-88a6-e8686039ae52",
   "metadata": {},
   "outputs": [],
   "source": [
    "* special method (스페셜 메서드) \n",
    "__init__ : 생성자 메서드 "
   ]
  },
  {
   "cell_type": "code",
   "execution_count": 1,
   "id": "dd335d7f-1dd0-4bdb-aac6-dc5f315c7412",
   "metadata": {},
   "outputs": [],
   "source": [
    "class Dog : \n",
    "    def __init__(self,name,age,master) : \n",
    "        self.name = name\n",
    "        self.age = age\n",
    "        self.master = master\n",
    "        \n",
    "    def bark(self) : \n",
    "        print(\"wal wal\")\n",
    "\n",
    "    def hungry(self) : \n",
    "        print(\"I am hungry\")\n"
   ]
  },
  {
   "cell_type": "code",
   "execution_count": null,
   "id": "0f2c8a81-9c6a-42f8-9197-5374173e1893",
   "metadata": {},
   "outputs": [],
   "source": [
    "kiki = Dog('kiki',5,'wonseok')"
   ]
  },
  {
   "cell_type": "code",
   "execution_count": 40,
   "id": "1d98cd4d-7624-4144-906a-23208db6af0f",
   "metadata": {},
   "outputs": [
    {
     "name": "stdout",
     "output_type": "stream",
     "text": [
      "wal wal\n"
     ]
    }
   ],
   "source": [
    "kiki.bark()"
   ]
  },
  {
   "cell_type": "code",
   "execution_count": 37,
   "id": "b738e30c-be26-4e83-9c61-fa49729bc131",
   "metadata": {},
   "outputs": [
    {
     "data": {
      "text/plain": [
       "5"
      ]
     },
     "execution_count": 37,
     "metadata": {},
     "output_type": "execute_result"
    }
   ],
   "source": [
    "kiki.age"
   ]
  },
  {
   "cell_type": "code",
   "execution_count": 38,
   "id": "6dcffde5-b53e-4b3d-b763-af61e0cce803",
   "metadata": {},
   "outputs": [
    {
     "data": {
      "text/plain": [
       "'wonseok'"
      ]
     },
     "execution_count": 38,
     "metadata": {},
     "output_type": "execute_result"
    }
   ],
   "source": [
    "kiki.master"
   ]
  },
  {
   "cell_type": "code",
   "execution_count": 42,
   "id": "8cc3b3e8-dad0-4d49-bca8-1082bd6c5364",
   "metadata": {},
   "outputs": [
    {
     "name": "stdout",
     "output_type": "stream",
     "text": [
      "I am hungry\n"
     ]
    }
   ],
   "source": [
    "kiki.hungry()"
   ]
  },
  {
   "cell_type": "code",
   "execution_count": 2,
   "id": "484766c6-53c8-409b-9cdb-05dcb879729e",
   "metadata": {},
   "outputs": [],
   "source": [
    "snoopy = Dog('snoopy',10,'eunhye')"
   ]
  },
  {
   "cell_type": "code",
   "execution_count": 3,
   "id": "fca475c8-ca8d-40eb-bd92-a5fb2aad6f00",
   "metadata": {},
   "outputs": [
    {
     "data": {
      "text/plain": [
       "'snoopy'"
      ]
     },
     "execution_count": 3,
     "metadata": {},
     "output_type": "execute_result"
    }
   ],
   "source": [
    "snoopy.name"
   ]
  },
  {
   "cell_type": "code",
   "execution_count": 4,
   "id": "dc76ff7e-02ee-4da1-93a8-620381f57fb9",
   "metadata": {},
   "outputs": [
    {
     "name": "stdout",
     "output_type": "stream",
     "text": [
      "wal wal\n"
     ]
    }
   ],
   "source": [
    "snoopy.bark()"
   ]
  },
  {
   "cell_type": "code",
   "execution_count": 5,
   "id": "b1f62eae-f686-416e-9ecb-c5cd595e4705",
   "metadata": {},
   "outputs": [],
   "source": [
    "# User class \n",
    "\n",
    "class User : \n",
    "    \n",
    "    def __init__(self,name,gender,address,email) : \n",
    "        self.name = name\n",
    "        self.gender = gender \n",
    "        self.address = address\n",
    "        self.email = email\n"
   ]
  },
  {
   "cell_type": "code",
   "execution_count": 6,
   "id": "39bc37e5-9859-419c-98b8-0ba64e48b4c1",
   "metadata": {},
   "outputs": [],
   "source": [
    "wonseok = User('wonseok','male','seocho','memy85@naver.com')\n",
    "eunhye = User('eunhye','female','kwangmyung','fecos@naver.com')"
   ]
  },
  {
   "cell_type": "code",
   "execution_count": 7,
   "id": "cefefebe-b0f6-4262-9a10-e3ea680bd824",
   "metadata": {},
   "outputs": [
    {
     "data": {
      "text/plain": [
       "'female'"
      ]
     },
     "execution_count": 7,
     "metadata": {},
     "output_type": "execute_result"
    }
   ],
   "source": [
    "eunhye.gender"
   ]
  },
  {
   "cell_type": "code",
   "execution_count": 8,
   "id": "819cc4a2-991c-4081-bbfa-22b2e32c9758",
   "metadata": {},
   "outputs": [
    {
     "data": {
      "text/plain": [
       "'male'"
      ]
     },
     "execution_count": 8,
     "metadata": {},
     "output_type": "execute_result"
    }
   ],
   "source": [
    "wonseok.gender"
   ]
  },
  {
   "cell_type": "code",
   "execution_count": 9,
   "id": "a2a8e655-6452-4235-97d1-6bfc1b9b5e24",
   "metadata": {},
   "outputs": [],
   "source": [
    "# 상속 \n",
    "\n",
    "class User2(User): \n",
    "    \n",
    "    def __init__(self, name, gender, address, email):\n",
    "        super().__init__(name, gender, address, email)\n",
    "        \n",
    "    def send_message(self,message):\n",
    "        print(\"sended message : {}\".format(message))\n",
    "        \n",
    "    def receive_message(self) : \n",
    "        print(\"receive message!\")\n",
    "        \n",
    "      "
   ]
  },
  {
   "cell_type": "code",
   "execution_count": 10,
   "id": "40744fc1-dae0-41a8-a0a6-d29742e512b1",
   "metadata": {},
   "outputs": [],
   "source": [
    "wonseok = User2('wonseok','male','seocho','memy85@naver.com')\n",
    "eunhye = User2('eunhye','female','kwangmyung','fecos@naver.com')"
   ]
  },
  {
   "cell_type": "code",
   "execution_count": 11,
   "id": "39857f3a-455d-4582-94a2-3ae22bf8f469",
   "metadata": {},
   "outputs": [
    {
     "name": "stdout",
     "output_type": "stream",
     "text": [
      "sended message : hello world\n"
     ]
    }
   ],
   "source": [
    "wonseok.send_message(\"hello world\")"
   ]
  },
  {
   "cell_type": "code",
   "execution_count": null,
   "id": "c4a0b014-5eb5-4a0b-b9d0-bba0f69605e5",
   "metadata": {},
   "outputs": [],
   "source": [
    "\n",
    "# 숙제 \n",
    "\n",
    "- 회원가입하고 유저정보 저장하고 , 전체정보를 반환하는 객체만들기 \n",
    "\n"
   ]
  },
  {
   "cell_type": "code",
   "execution_count": 73,
   "id": "a588cbe0-b8a0-46f1-9837-b4973ba2fb8d",
   "metadata": {},
   "outputs": [],
   "source": [
    "class Join : \n",
    "    \n",
    "    name = 'wonseok'\n",
    "    age = 37\n",
    "    address = 'seocho'\n",
    "    \n",
    "    def login(self) :\n",
    "        print('welcom!')\n",
    "        \n",
    "    def logout(self) : \n",
    "        print('bye')\n",
    "        "
   ]
  },
  {
   "cell_type": "code",
   "execution_count": 76,
   "id": "6fac6549-049b-4c00-b2a5-ab14469acc29",
   "metadata": {},
   "outputs": [],
   "source": [
    "wonseok = Join()"
   ]
  },
  {
   "cell_type": "code",
   "execution_count": 77,
   "id": "fc523259-48bc-4f64-8d4b-33b08f754539",
   "metadata": {},
   "outputs": [
    {
     "data": {
      "text/plain": [
       "'wonseok'"
      ]
     },
     "execution_count": 77,
     "metadata": {},
     "output_type": "execute_result"
    }
   ],
   "source": [
    "wonseok.name"
   ]
  },
  {
   "cell_type": "code",
   "execution_count": null,
   "id": "df902f45-69c1-4551-b1e0-fecad8c80a32",
   "metadata": {},
   "outputs": [],
   "source": [
    "# 숙제 방향 : ID별 클래스생성 , ID에 회원정보 쭈루루 / 로그인했을때 헬로 로그아웃시 바이~ \n",
    "유저2,3...자유로운 추가가능 \n",
    "\n",
    "class Id : \n",
    "    \n",
    "    name : 'wonseok'\n",
    "    age : 37\n",
    "    address : 'seocho'\n",
    "    \n",
    "    def login(self) : \n",
    "        print('welcom!')\n",
    "        \n",
    "    def logout(self) : \n",
    "        print('bye')\n",
    "        "
   ]
  },
  {
   "cell_type": "code",
   "execution_count": 12,
   "id": "ca85ff80-41b0-4e46-b080-7233c3be9049",
   "metadata": {},
   "outputs": [
    {
     "ename": "NameError",
     "evalue": "name 'Id' is not defined",
     "output_type": "error",
     "traceback": [
      "\u001b[1;31m---------------------------------------------------------------------------\u001b[0m",
      "\u001b[1;31mNameError\u001b[0m                                 Traceback (most recent call last)",
      "\u001b[1;32m~\\AppData\\Local\\Temp\\ipykernel_13016\\2359235943.py\u001b[0m in \u001b[0;36m<module>\u001b[1;34m\u001b[0m\n\u001b[1;32m----> 1\u001b[1;33m \u001b[0mwonseok\u001b[0m \u001b[1;33m=\u001b[0m \u001b[0mId\u001b[0m\u001b[1;33m(\u001b[0m\u001b[1;33m)\u001b[0m\u001b[1;33m\u001b[0m\u001b[1;33m\u001b[0m\u001b[0m\n\u001b[0m",
      "\u001b[1;31mNameError\u001b[0m: name 'Id' is not defined"
     ]
    }
   ],
   "source": [
    "wonseok = Id()"
   ]
  },
  {
   "cell_type": "code",
   "execution_count": null,
   "id": "a8185851-f0ac-4316-9fc3-6534dc3a5180",
   "metadata": {},
   "outputs": [],
   "source": []
  },
  {
   "cell_type": "code",
   "execution_count": null,
   "id": "e794dcc2-4dd9-43ad-9890-acebb19e2d38",
   "metadata": {},
   "outputs": [],
   "source": []
  }
 ],
 "metadata": {
  "kernelspec": {
   "display_name": "Python 3 (ipykernel)",
   "language": "python",
   "name": "python3"
  },
  "language_info": {
   "codemirror_mode": {
    "name": "ipython",
    "version": 3
   },
   "file_extension": ".py",
   "mimetype": "text/x-python",
   "name": "python",
   "nbconvert_exporter": "python",
   "pygments_lexer": "ipython3",
   "version": "3.9.13"
  }
 },
 "nbformat": 4,
 "nbformat_minor": 5
}
