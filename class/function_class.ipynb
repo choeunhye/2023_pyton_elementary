{
 "cells": [
  {
   "cell_type": "markdown",
   "id": "9ec0077c-0998-43ae-8a67-ab4d33e279fd",
   "metadata": {
    "tags": []
   },
   "source": [
    "# recap\n",
    "- 자료형\n",
    "    - numberic (int,float)\n",
    "    - str\n",
    "        - indexing\n",
    "        - slicing\n",
    "    - boolean\n",
    "        - true & false \n",
    "        \n",
    "- 자료구조\n",
    "    - 리스트 : array(배열) 추가,삭제가능 \n",
    "    - 튜플 : array (배열), 추가,삭제 불가 \n",
    "    - 딕셔너리 : {key1 : value, key2: value } , key는 중복 불가 , 밸류는 중복 가능 \n",
    "    \n",
    "- 자료형 , 자료구조 모두 각자만의 methood(메서드 - 고유의 기능)\n",
    "        "
   ]
  },
  {
   "cell_type": "markdown",
   "id": "bb811d3e-f342-481e-9af0-6c3b3d9134cb",
   "metadata": {},
   "source": [
    "## Recap - statement 문들 / \n",
    "- for 문\n",
    "- while 문\n",
    "- if else 문 \n"
   ]
  },
  {
   "cell_type": "code",
   "execution_count": 1,
   "id": "d7dbba95-8956-440b-8537-2557880b7d41",
   "metadata": {},
   "outputs": [
    {
     "name": "stdout",
     "output_type": "stream",
     "text": [
      "0\n",
      "1\n",
      "2\n",
      "3\n",
      "4\n",
      "5\n"
     ]
    }
   ],
   "source": [
    "# for문\n",
    "\n",
    "'''\n",
    "for index in <iterable> : \n",
    "    index 로 연산진행 \n",
    "    \n",
    "'''\n",
    "# 숫자를 print 하는 for문 \n",
    "for i in [0,1,2,3,4,5] : \n",
    "    print(i)"
   ]
  },
  {
   "cell_type": "code",
   "execution_count": 6,
   "id": "fe174487-c7b5-4731-bc03-b3937a8619d0",
   "metadata": {},
   "outputs": [
    {
     "data": {
      "text/plain": [
       "['apple', 'banana']"
      ]
     },
     "execution_count": 6,
     "metadata": {},
     "output_type": "execute_result"
    }
   ],
   "source": [
    "# list comprehension\n",
    "\n",
    "# 리스트에 for문을 돌면서 요소 (eleement)를 추가하고싶을때 \n",
    "# 원래 방식 \n",
    "mylist = []\n",
    "for i in ['apple','banana','kiwi'] : \n",
    "    if (i == 'apple') or (i == 'banana') : \n",
    "        mylist.append(i)\n",
    "    else : \n",
    "        pass \n",
    "\n",
    "mylist"
   ]
  },
  {
   "cell_type": "code",
   "execution_count": 8,
   "id": "408a5822-2619-4623-b20c-4823359772f8",
   "metadata": {},
   "outputs": [
    {
     "data": {
      "text/plain": [
       "'kwangmyung'"
      ]
     },
     "execution_count": 8,
     "metadata": {},
     "output_type": "execute_result"
    }
   ],
   "source": [
    "# dictionary  딕셔너리 \n",
    "location = {'wonseok' : 'seocho',\n",
    "            'eunhye' : 'kwangmyung'}\n",
    "\n",
    "location['eunhye']"
   ]
  },
  {
   "cell_type": "code",
   "execution_count": 7,
   "id": "45e330d5-42bc-481c-9a8f-c0bf50744622",
   "metadata": {},
   "outputs": [
    {
     "data": {
      "text/plain": [
       "['apple']"
      ]
     },
     "execution_count": 7,
     "metadata": {},
     "output_type": "execute_result"
    }
   ],
   "source": [
    "# list cimprehension을 사용 \n",
    "fruits = ['apple','kiwi']\n",
    "[i for i in fruits if i in ['apple','banana']]"
   ]
  },
  {
   "cell_type": "code",
   "execution_count": 10,
   "id": "eebbc491-427a-444a-a3fe-5fcd14a4cbad",
   "metadata": {},
   "outputs": [
    {
     "data": {
      "text/plain": [
       "'seocho'"
      ]
     },
     "execution_count": 10,
     "metadata": {},
     "output_type": "execute_result"
    }
   ],
   "source": [
    "# dictionary 딕셔너리\n",
    "\n",
    "location = {'wonseok' : 'seocho', \n",
    "           'eunhye' : 'kwangmyung'}\n",
    "\n",
    "location['wonseok']"
   ]
  },
  {
   "cell_type": "code",
   "execution_count": null,
   "id": "4bca2b90-6119-4a14-a21f-c85ef329f30d",
   "metadata": {},
   "outputs": [],
   "source": [
    "\n",
    "## function/ 함수 \n",
    "- input / output 이 있다.\n",
    "- 코드를 길게쓰는것을 방지하고, 자동화를 해주는 역할\n",
    "\n",
    "- 함수의 기본구조 \n",
    "\n",
    "```\n",
    "def 함수이름(인자):\n",
    "    연산의 결과 = 인자를 사용한 연산\n",
    "    return 연산의 결과값 = 인자 \n",
    "```\n"
   ]
  },
  {
   "cell_type": "code",
   "execution_count": 20,
   "id": "a26c2bd9-04e6-4548-a3fd-da5e9dee38c9",
   "metadata": {},
   "outputs": [
    {
     "data": {
      "text/plain": [
       "['apple', 'banana']"
      ]
     },
     "execution_count": 20,
     "metadata": {},
     "output_type": "execute_result"
    }
   ],
   "source": [
    "# 예시 1 \n",
    "\n",
    "mylist = []\n",
    "for i in ['apple', 'banana', 'kiwi'] :\n",
    "    if (i == 'apple') or (i == 'banana') : \n",
    "        mylist.append(i)\n",
    "    else : \n",
    "        pass \n",
    "\n",
    "mylist"
   ]
  },
  {
   "cell_type": "code",
   "execution_count": 41,
   "id": "00db28fb-d720-45fa-9e6c-32c6b3cea613",
   "metadata": {},
   "outputs": [],
   "source": [
    "def filtering_funtion(original_list, filtering_list) :\n",
    "    \n",
    "    new_list = []\n",
    "    for i in original_list : \n",
    "        if i not in filtering_list : \n",
    "            new_list.append(i)\n",
    "        else : \n",
    "            pass\n",
    "        \n",
    "    return new_list,1\n"
   ]
  },
  {
   "cell_type": "code",
   "execution_count": 42,
   "id": "d21c062e-a96e-45f7-9068-bff9a06be9df",
   "metadata": {},
   "outputs": [
    {
     "name": "stdout",
     "output_type": "stream",
     "text": [
      "['apple', 'banana']\n",
      "1\n"
     ]
    }
   ],
   "source": [
    "result1, result2 = filtering_funtion(filtering_list = ['kiwi'], original_list = ['apple','banana','kiwi'])\n",
    "print(result1)\n",
    "print(result2)"
   ]
  },
  {
   "cell_type": "code",
   "execution_count": 43,
   "id": "177c6ff5-90b6-4cb0-8368-dfb60804815e",
   "metadata": {},
   "outputs": [
    {
     "data": {
      "text/plain": [
       "(['house', 'apartment', 'mention'], 1)"
      ]
     },
     "execution_count": 43,
     "metadata": {},
     "output_type": "execute_result"
    }
   ],
   "source": [
    "list1 = ['house','apartment','villa','mention']\n",
    "list2 = ['villa']\n",
    "\n",
    "filtering_funtion(list1,list2)\n"
   ]
  },
  {
   "cell_type": "code",
   "execution_count": null,
   "id": "7c8937b9-3a64-44a0-9f77-08efa72b45cf",
   "metadata": {},
   "outputs": [],
   "source": [
    "def filtering_function(*args / **args) "
   ]
  },
  {
   "cell_type": "code",
   "execution_count": 4,
   "id": "addc5c52-2bc0-47fb-9323-72d4058c1390",
   "metadata": {},
   "outputs": [
    {
     "ename": "SyntaxError",
     "evalue": "invalid syntax (1802297551.py, line 3)",
     "output_type": "error",
     "traceback": [
      "\u001b[1;36m  File \u001b[1;32m\"C:\\Users\\nicevely713\\AppData\\Local\\Temp\\ipykernel_4400\\1802297551.py\"\u001b[1;36m, line \u001b[1;32m3\u001b[0m\n\u001b[1;33m    *args : 무언가 담아놓은 튜플\u001b[0m\n\u001b[1;37m          ^\u001b[0m\n\u001b[1;31mSyntaxError\u001b[0m\u001b[1;31m:\u001b[0m invalid syntax\n"
     ]
    }
   ],
   "source": [
    "## function : *args, **kwargs \n",
    "\n",
    "*args : 무언가 담아놓은 튜플\n",
    "**kwargs : 무언가를 담아놓은 딕셔너리 "
   ]
  },
  {
   "cell_type": "code",
   "execution_count": 70,
   "id": "b74884c2-39f9-4adf-816c-3d4241b36ce3",
   "metadata": {},
   "outputs": [
    {
     "ename": "NameError",
     "evalue": "name 'villa' is not defined",
     "output_type": "error",
     "traceback": [
      "\u001b[1;31m---------------------------------------------------------------------------\u001b[0m",
      "\u001b[1;31mNameError\u001b[0m                                 Traceback (most recent call last)",
      "\u001b[1;32m~\\AppData\\Local\\Temp\\ipykernel_3652\\394278945.py\u001b[0m in \u001b[0;36m<module>\u001b[1;34m\u001b[0m\n\u001b[0;32m      1\u001b[0m \u001b[0mlist1\u001b[0m \u001b[1;33m=\u001b[0m \u001b[1;33m[\u001b[0m\u001b[1;34m'house'\u001b[0m\u001b[1;33m,\u001b[0m\u001b[1;34m'apartmen'\u001b[0m\u001b[1;33m,\u001b[0m\u001b[1;34m'villa'\u001b[0m\u001b[1;33m,\u001b[0m\u001b[1;34m'mention'\u001b[0m\u001b[1;33m]\u001b[0m\u001b[1;33m\u001b[0m\u001b[1;33m\u001b[0m\u001b[0m\n\u001b[1;32m----> 2\u001b[1;33m \u001b[0mlist2\u001b[0m \u001b[1;33m=\u001b[0m \u001b[1;33m[\u001b[0m\u001b[0mvilla\u001b[0m\u001b[1;33m]\u001b[0m\u001b[1;33m\u001b[0m\u001b[1;33m\u001b[0m\u001b[0m\n\u001b[0m",
      "\u001b[1;31mNameError\u001b[0m: name 'villa' is not defined"
     ]
    }
   ],
   "source": [
    "list1 = ['house','apartmen','villa','mention']\n",
    "list2 = [villa]"
   ]
  },
  {
   "cell_type": "code",
   "execution_count": 71,
   "id": "ab8d04d8-5227-4e63-b1b1-bdfc84367770",
   "metadata": {},
   "outputs": [],
   "source": [
    "def filtering_function(*args) :\n",
    "    print(\"this is args : \" ,args)\n",
    "    \n",
    "    original_list = args[0]\n",
    "    filtering_list = args[1]\n",
    "    \n",
    "    new_list = []\n",
    "    for i in original_list : \n",
    "        if i not in filtering_list : \n",
    "            new_list.append(i)\n",
    "        else : \n",
    "            pass\n",
    "        \n",
    "    return new_list"
   ]
  },
  {
   "cell_type": "code",
   "execution_count": 72,
   "id": "7febf04c-4231-47a7-a3cf-5218cef441a2",
   "metadata": {},
   "outputs": [
    {
     "name": "stdout",
     "output_type": "stream",
     "text": [
      "this is args :  (['house', 'apartmen', 'villa', 'mention'], ['villa'])\n"
     ]
    },
    {
     "data": {
      "text/plain": [
       "['house', 'apartmen', 'mention']"
      ]
     },
     "execution_count": 72,
     "metadata": {},
     "output_type": "execute_result"
    }
   ],
   "source": [
    "filtering_function(list1,list2)"
   ]
  },
  {
   "cell_type": "code",
   "execution_count": 76,
   "id": "0b1e338c-5882-40bc-b88a-6dd701562fbb",
   "metadata": {},
   "outputs": [],
   "source": [
    "def filtering_function(**kwargs) :\n",
    "    print(\"this is args : \" ,kwargs)\n",
    "    \n",
    "    original_list = kwargs['original']\n",
    "    filtering_list = kwargs['filter']\n",
    "    \n",
    "    new_list = []\n",
    "    for i in original_list : \n",
    "        if i not in filtering_list : \n",
    "            new_list.append(i)\n",
    "        else : \n",
    "            pass\n",
    "        \n",
    "    return new_list"
   ]
  },
  {
   "cell_type": "code",
   "execution_count": 77,
   "id": "dfb11610-c95f-469e-a086-2ba9c5486371",
   "metadata": {},
   "outputs": [],
   "source": [
    "list1 = ['house','apartmen','villa','mention']\n",
    "list2 = ['villa']"
   ]
  },
  {
   "cell_type": "code",
   "execution_count": 80,
   "id": "e91aab5c-87eb-4418-854a-3294449e435c",
   "metadata": {},
   "outputs": [
    {
     "name": "stdout",
     "output_type": "stream",
     "text": [
      "this is args :  {'original': ['house', 'apartmen', 'villa', 'mention'], 'filter': ['villa']}\n"
     ]
    },
    {
     "data": {
      "text/plain": [
       "['house', 'apartmen', 'mention']"
      ]
     },
     "execution_count": 80,
     "metadata": {},
     "output_type": "execute_result"
    }
   ],
   "source": [
    "filtering_function(original = list1, filter = list2)"
   ]
  },
  {
   "cell_type": "code",
   "execution_count": 74,
   "id": "fd261acf-8eaf-4a4b-bcac-60ce173b43e4",
   "metadata": {},
   "outputs": [
    {
     "ename": "SyntaxError",
     "evalue": "invalid syntax (1199925104.py, line 2)",
     "output_type": "error",
     "traceback": [
      "\u001b[1;36m  File \u001b[1;32m\"C:\\Users\\nicevely713\\AppData\\Local\\Temp\\ipykernel_3652\\1199925104.py\"\u001b[1;36m, line \u001b[1;32m2\u001b[0m\n\u001b[1;33m    1. user가 왔을때, 닉네임과 비밀번호를 입력하게 만들고 그것을 변수에 저장하고 저장된 변수를 반환하는 함수를 만드시오\u001b[0m\n\u001b[1;37m       ^\u001b[0m\n\u001b[1;31mSyntaxError\u001b[0m\u001b[1;31m:\u001b[0m invalid syntax\n"
     ]
    }
   ],
   "source": [
    "# 숙제 \n",
    "1. user가 왔을때, 닉네임과 비밀번호를 입력하게 만들고 그것을 변수에 저장하고 저장된 변수를 반환하는 함수를 만드시오 \n",
    "    input : 닉네임,비밀번호\n",
    "    output : 닉네임, 비밀번호를 저장한 객체(리스트 혹은 딕셔너리) \n",
    "    \n",
    "    \n",
    "    user가 닉네임과 비밀번호를 각 키값으로 입력하고 , 아웃풋으로 밸류값 출력되게 \n",
    "    "
   ]
  },
  {
   "cell_type": "code",
   "execution_count": 81,
   "id": "bcb2126e-54ae-4ca5-8687-7cd47834a720",
   "metadata": {},
   "outputs": [
    {
     "data": {
      "text/plain": [
       "'kwangmyung'"
      ]
     },
     "execution_count": 81,
     "metadata": {},
     "output_type": "execute_result"
    }
   ],
   "source": [
    "# dictionary  딕셔너리 \n",
    "\n",
    "user = {'wonseok' : 'seocho',\n",
    "        'eunhye' : 'kwangmyung'}\n",
    "\n",
    "user['eunhye']"
   ]
  },
  {
   "cell_type": "code",
   "execution_count": 1,
   "id": "479ac76c-7fa2-4f49-aa77-1030344af886",
   "metadata": {},
   "outputs": [
    {
     "ename": "SyntaxError",
     "evalue": "invalid syntax (1909871843.py, line 1)",
     "output_type": "error",
     "traceback": [
      "\u001b[1;36m  File \u001b[1;32m\"C:\\Users\\nicevely713\\AppData\\Local\\Temp\\ipykernel_15636\\1909871843.py\"\u001b[1;36m, line \u001b[1;32m1\u001b[0m\n\u001b[1;33m    유저가 닉네임과 비번을 입력하면 유저임이 불런으로 / 트루펄스 /\u001b[0m\n\u001b[1;37m        ^\u001b[0m\n\u001b[1;31mSyntaxError\u001b[0m\u001b[1;31m:\u001b[0m invalid syntax\n"
     ]
    }
   ],
   "source": [
    "유저가 닉네임과 비번을 입력하면 유저임이 불런으로 / 트루펄스 / \n",
    "    "
   ]
  },
  {
   "cell_type": "code",
   "execution_count": 8,
   "id": "ae561108-a78f-4876-a480-a025d9dbe878",
   "metadata": {},
   "outputs": [],
   "source": [
    "\n",
    "list1 = ['house','apartment']\n",
    "list1 = ['success']"
   ]
  },
  {
   "cell_type": "code",
   "execution_count": 9,
   "id": "5f781b37-72c4-43b0-afe5-eb5f58ce49ac",
   "metadata": {},
   "outputs": [
    {
     "data": {
      "text/plain": [
       "['success']"
      ]
     },
     "execution_count": 9,
     "metadata": {},
     "output_type": "execute_result"
    }
   ],
   "source": [
    "list1"
   ]
  },
  {
   "cell_type": "markdown",
   "id": "7e02dfd8-4946-4e80-9640-6277bca224e8",
   "metadata": {},
   "source": []
  }
 ],
 "metadata": {
  "kernelspec": {
   "display_name": "Python 3 (ipykernel)",
   "language": "python",
   "name": "python3"
  },
  "language_info": {
   "codemirror_mode": {
    "name": "ipython",
    "version": 3
   },
   "file_extension": ".py",
   "mimetype": "text/x-python",
   "name": "python",
   "nbconvert_exporter": "python",
   "pygments_lexer": "ipython3",
   "version": "3.9.13"
  }
 },
 "nbformat": 4,
 "nbformat_minor": 5
}
