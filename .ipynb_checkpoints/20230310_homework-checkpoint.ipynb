{
 "cells": [
  {
   "cell_type": "code",
   "execution_count": null,
   "id": "7a27b2b6-d405-4ab6-b028-d83d6a71af9a",
   "metadata": {},
   "outputs": [],
   "source": [
    " ##연습문제\n",
    "    id : wonseok, kitty , sandy \n",
    "    pw : wonseok123, kitty123 , sandy123\n",
    "    \n",
    " 1. user의 닉네임과 비밀번호를 딕셔너리에 key,value형태로 저장해보세요.\n",
    " 2. 딕셔너리말고 리스트로 만들어서 해결해보세요. "
   ]
  },
  {
   "cell_type": "code",
   "execution_count": 2,
   "id": "94fd83ef-66b8-4576-937e-1bc8597f9744",
   "metadata": {},
   "outputs": [
    {
     "data": {
      "text/plain": [
       "(['wonseok', 'kitty', 'sandy'], ['wonseok', 'kitty', 'sandy'])"
      ]
     },
     "execution_count": 2,
     "metadata": {},
     "output_type": "execute_result"
    }
   ],
   "source": [
    "# list\n",
    "\n",
    "#?list\n",
    "mylist = [] #mylist = list{}\n",
    "mylist.append('wonseok')\n",
    "mylist.append('kitty')\n",
    "mylist.append('sandy')\n",
    "mylist, mylist[0:3]"
   ]
  },
  {
   "cell_type": "code",
   "execution_count": 5,
   "id": "e4a76f9c-210a-4c16-be82-b4792cf86f5b",
   "metadata": {},
   "outputs": [
    {
     "data": {
      "text/plain": [
       "['wonseok', 'kitty', 'sandy']"
      ]
     },
     "execution_count": 5,
     "metadata": {},
     "output_type": "execute_result"
    }
   ],
   "source": [
    "mylist"
   ]
  },
  {
   "cell_type": "code",
   "execution_count": 6,
   "id": "91e09fed-e8d6-46d0-861a-434a4fcc358b",
   "metadata": {},
   "outputs": [
    {
     "data": {
      "text/plain": [
       "'kitty'"
      ]
     },
     "execution_count": 6,
     "metadata": {},
     "output_type": "execute_result"
    }
   ],
   "source": [
    "mylist.pop(1)"
   ]
  },
  {
   "cell_type": "code",
   "execution_count": 7,
   "id": "04374ced-3bcb-4e68-817d-a66ad70df58f",
   "metadata": {},
   "outputs": [
    {
     "data": {
      "text/plain": [
       "['wonseok', 'sandy']"
      ]
     },
     "execution_count": 7,
     "metadata": {},
     "output_type": "execute_result"
    }
   ],
   "source": [
    "mylist"
   ]
  },
  {
   "cell_type": "code",
   "execution_count": 8,
   "id": "0731770e-3a5f-4fb3-a389-5f72d5eb7ce8",
   "metadata": {},
   "outputs": [],
   "source": [
    "mylist.append('kitty')"
   ]
  },
  {
   "cell_type": "code",
   "execution_count": 10,
   "id": "ec562f95-2bd4-4059-8075-5d93ed1f8e4f",
   "metadata": {},
   "outputs": [
    {
     "data": {
      "text/plain": [
       "['wonseok', 'sandy', 'kitty']"
      ]
     },
     "execution_count": 10,
     "metadata": {},
     "output_type": "execute_result"
    }
   ],
   "source": [
    "mylist"
   ]
  },
  {
   "cell_type": "code",
   "execution_count": 28,
   "id": "660a8a99-fa69-4c8b-88f4-599c5b158564",
   "metadata": {},
   "outputs": [
    {
     "ename": "NameError",
     "evalue": "name 'wonseok123' is not defined",
     "output_type": "error",
     "traceback": [
      "\u001b[1;31m---------------------------------------------------------------------------\u001b[0m",
      "\u001b[1;31mNameError\u001b[0m                                 Traceback (most recent call last)",
      "\u001b[1;32m~\\AppData\\Local\\Temp\\ipykernel_13688\\449015618.py\u001b[0m in \u001b[0;36m<module>\u001b[1;34m\u001b[0m\n\u001b[0;32m      1\u001b[0m \u001b[0mmydict\u001b[0m \u001b[1;33m=\u001b[0m \u001b[0mdict\u001b[0m\u001b[1;33m(\u001b[0m\u001b[1;33m)\u001b[0m \u001b[1;31m#mydict= {}\u001b[0m\u001b[1;33m\u001b[0m\u001b[1;33m\u001b[0m\u001b[0m\n\u001b[1;32m----> 2\u001b[1;33m \u001b[0mmydict\u001b[0m\u001b[1;33m[\u001b[0m\u001b[1;34m'wonseok'\u001b[0m\u001b[1;33m]\u001b[0m \u001b[1;33m=\u001b[0m \u001b[0mwonseok123\u001b[0m\u001b[1;33m\u001b[0m\u001b[1;33m\u001b[0m\u001b[0m\n\u001b[0m\u001b[0;32m      3\u001b[0m \u001b[0mmydict\u001b[0m\u001b[1;33m\u001b[0m\u001b[1;33m\u001b[0m\u001b[0m\n\u001b[0;32m      4\u001b[0m \u001b[1;33m\u001b[0m\u001b[0m\n\u001b[0;32m      5\u001b[0m \u001b[0mmydict\u001b[0m\u001b[1;33m[\u001b[0m\u001b[1;34m'wonseok'\u001b[0m\u001b[1;33m]\u001b[0m\u001b[1;33m\u001b[0m\u001b[1;33m\u001b[0m\u001b[0m\n",
      "\u001b[1;31mNameError\u001b[0m: name 'wonseok123' is not defined"
     ]
    }
   ],
   "source": [
    "mydict = dict() #mydict= {}\n",
    "mydict['wonseok'] = wonseok123\n",
    "mydict\n",
    "\n",
    "mydict['wonseok'] \n",
    "mydict['sandy'] = sandy123\n",
    "\n",
    "mydict.pop['sandy']"
   ]
  },
  {
   "cell_type": "code",
   "execution_count": 29,
   "id": "5df193be-0acc-4b3c-b9c2-5c019ce5a9b3",
   "metadata": {},
   "outputs": [
    {
     "data": {
      "text/plain": [
       "dict_values([])"
      ]
     },
     "execution_count": 29,
     "metadata": {},
     "output_type": "execute_result"
    }
   ],
   "source": [
    "mydict.keys(),\n",
    "mydict.values()"
   ]
  },
  {
   "cell_type": "code",
   "execution_count": 27,
   "id": "acdabcf0-21d4-4edb-a4d0-8288bd3444b6",
   "metadata": {},
   "outputs": [
    {
     "data": {
      "text/plain": [
       "{}"
      ]
     },
     "execution_count": 27,
     "metadata": {},
     "output_type": "execute_result"
    }
   ],
   "source": [
    "mydict"
   ]
  },
  {
   "cell_type": "code",
   "execution_count": null,
   "id": "10d2ccb0-0e57-478f-9753-625ba24a3a59",
   "metadata": {},
   "outputs": [],
   "source": []
  }
 ],
 "metadata": {
  "kernelspec": {
   "display_name": "Python 3 (ipykernel)",
   "language": "python",
   "name": "python3"
  },
  "language_info": {
   "codemirror_mode": {
    "name": "ipython",
    "version": 3
   },
   "file_extension": ".py",
   "mimetype": "text/x-python",
   "name": "python",
   "nbconvert_exporter": "python",
   "pygments_lexer": "ipython3",
   "version": "3.9.13"
  }
 },
 "nbformat": 4,
 "nbformat_minor": 5
}
